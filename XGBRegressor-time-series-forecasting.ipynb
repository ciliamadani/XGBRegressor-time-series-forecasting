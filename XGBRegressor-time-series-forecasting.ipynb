{
 "cells": [
  {
   "cell_type": "markdown",
   "metadata": {
    "papermill": {
     "duration": 0.008799,
     "end_time": "2022-11-22T18:45:27.678508",
     "exception": false,
     "start_time": "2022-11-22T18:45:27.669709",
     "status": "completed"
    },
    "tags": []
   },
   "source": [
    "# Imports\n",
    "<div style=\"color:white;\n",
    "           display:fill;\n",
    "           border-radius:5px;\n",
    "           background-color:#5042C5;\n",
    "           font-size:110%;\n",
    "           font-family:Verdana;\n",
    "           letter-spacing:0.5px\">\n",
    "\n",
    "<p style=\"padding: 10px;\n",
    "              color:white;\">\n",
    "\n",
    "</p>\n",
    "</div>"
   ]
  },
  {
   "cell_type": "code",
   "execution_count": 1,
   "metadata": {
    "execution": {
     "iopub.execute_input": "2022-11-22T18:45:27.696774Z",
     "iopub.status.busy": "2022-11-22T18:45:27.696194Z",
     "iopub.status.idle": "2022-11-22T18:45:29.764688Z",
     "shell.execute_reply": "2022-11-22T18:45:29.763114Z"
    },
    "papermill": {
     "duration": 2.080907,
     "end_time": "2022-11-22T18:45:29.767463",
     "exception": false,
     "start_time": "2022-11-22T18:45:27.686556",
     "status": "completed"
    },
    "tags": []
   },
   "outputs": [],
   "source": [
    "# Setup feedback system\n",
    "import pandas as pd \n",
    "import os\n",
    "from learntools.core import binder\n",
    "binder.bind(globals())\n",
    "from learntools.time_series.ex3 import *\n",
    "\n",
    "# Setup notebook\n",
    "from pathlib import Path\n",
    "from learntools.time_series.style import *  # plot style settings\n",
    "from learntools.time_series.utils import plot_periodogram, seasonal_plot\n",
    "\n",
    "import pandas as pd\n",
    "import matplotlib.pyplot as plt\n",
    "import numpy as np\n",
    "import seaborn as sns\n",
    "from sklearn.linear_model import LinearRegression\n",
    "from statsmodels.tsa.deterministic import CalendarFourier, DeterministicProcess\n",
    "from datetime import datetime\n",
    "from sklearn.model_selection import RandomizedSearchCV, GridSearchCV\n",
    "from sklearn.metrics import roc_auc_score\n",
    "from sklearn.model_selection import StratifiedKFold\n",
    "from xgboost import XGBClassifier\n",
    "from xgboost import  XGBRegressor"
   ]
  },
  {
   "cell_type": "markdown",
   "metadata": {
    "papermill": {
     "duration": 0.009492,
     "end_time": "2022-11-22T18:45:29.785174",
     "exception": false,
     "start_time": "2022-11-22T18:45:29.775682",
     "status": "completed"
    },
    "tags": []
   },
   "source": [
    "# Loading datasets\n",
    "<div style=\"color:white;\n",
    "           display:fill;\n",
    "           border-radius:5px;\n",
    "           background-color:#5042C5;\n",
    "           font-size:110%;\n",
    "           font-family:Verdana;\n",
    "           letter-spacing:0.5px\">\n",
    "\n",
    "<p style=\"padding: 10px;\n",
    "              color:white;\">\n",
    "\n",
    "</p>\n",
    "</div>"
   ]
  },
  {
   "cell_type": "code",
   "execution_count": 2,
   "metadata": {
    "execution": {
     "iopub.execute_input": "2022-11-22T18:45:29.804693Z",
     "iopub.status.busy": "2022-11-22T18:45:29.804401Z",
     "iopub.status.idle": "2022-11-22T18:45:33.079846Z",
     "shell.execute_reply": "2022-11-22T18:45:33.078955Z"
    },
    "papermill": {
     "duration": 3.287334,
     "end_time": "2022-11-22T18:45:33.081980",
     "exception": false,
     "start_time": "2022-11-22T18:45:29.794646",
     "status": "completed"
    },
    "tags": []
   },
   "outputs": [],
   "source": [
    "## Path of datasets\n",
    "path='../input/store-sales-time-series-forecasting/'\n",
    "\n",
    "## Train & Test Datasets\n",
    "train=pd.read_csv(path+'train.csv',parse_dates=['date'])\n",
    "test=pd.read_csv(path+'test.csv',parse_dates=['date'])\n",
    "\n",
    "## Supplementary Datasets\n",
    "oil=pd.read_csv(path+'oil.csv',parse_dates=['date'])\n",
    "holidays_events=pd.read_csv(path+'holidays_events.csv',parse_dates=['date'])\n",
    "stores=pd.read_csv(path+'stores.csv')\n",
    "transactions=pd.read_csv(path+'transactions.csv',parse_dates=['date'])\n"
   ]
  },
  {
   "cell_type": "code",
   "execution_count": 3,
   "metadata": {
    "execution": {
     "iopub.execute_input": "2022-11-22T18:45:33.099438Z",
     "iopub.status.busy": "2022-11-22T18:45:33.099153Z",
     "iopub.status.idle": "2022-11-22T18:45:35.838028Z",
     "shell.execute_reply": "2022-11-22T18:45:35.836746Z"
    },
    "papermill": {
     "duration": 2.74995,
     "end_time": "2022-11-22T18:45:35.840202",
     "exception": false,
     "start_time": "2022-11-22T18:45:33.090252",
     "status": "completed"
    },
    "tags": []
   },
   "outputs": [],
   "source": [
    "comp_dir = Path('../input/store-sales-time-series-forecasting')\n",
    "\n",
    "holidays_events = pd.read_csv(\n",
    "    comp_dir / \"holidays_events.csv\",\n",
    "    dtype={\n",
    "        'type': 'category',\n",
    "        'locale': 'category',\n",
    "        'locale_name': 'category',\n",
    "        'description': 'category',\n",
    "        'transferred': 'bool',\n",
    "    },\n",
    "    parse_dates=['date'],\n",
    "    infer_datetime_format=True,\n",
    ")\n",
    "holidays_events = holidays_events.set_index('date').to_period('D')\n",
    "\n",
    "store_sales = pd.read_csv(\n",
    "    comp_dir / 'train.csv',\n",
    "    usecols=['store_nbr', 'family', 'date', 'sales'],\n",
    "    dtype={\n",
    "        'store_nbr': 'category',\n",
    "        'family': 'category',\n",
    "        'sales': 'float32',\n",
    "    },\n",
    "    parse_dates=['date'],\n",
    "    infer_datetime_format=True,\n",
    ")\n",
    "store_sales['date'] = store_sales.date.dt.to_period('D')\n",
    "store_sales = store_sales.set_index(['store_nbr', 'family', 'date']).sort_index()\n",
    "average_sales = (\n",
    "    store_sales\n",
    "    .groupby('date').mean()\n",
    "    .squeeze()\n",
    "    .loc['2017']\n",
    ")"
   ]
  },
  {
   "cell_type": "code",
   "execution_count": 4,
   "metadata": {
    "execution": {
     "iopub.execute_input": "2022-11-22T18:45:35.857545Z",
     "iopub.status.busy": "2022-11-22T18:45:35.857262Z",
     "iopub.status.idle": "2022-11-22T18:45:35.867992Z",
     "shell.execute_reply": "2022-11-22T18:45:35.866427Z"
    },
    "papermill": {
     "duration": 0.021722,
     "end_time": "2022-11-22T18:45:35.870019",
     "exception": false,
     "start_time": "2022-11-22T18:45:35.848297",
     "status": "completed"
    },
    "tags": []
   },
   "outputs": [
    {
     "data": {
      "text/plain": [
       "date\n",
       "2017-01-01      6.780303\n",
       "2017-01-02    786.928406\n",
       "2017-01-03    619.740234\n",
       "2017-01-04    555.608032\n",
       "2017-01-05    436.375397\n",
       "                 ...    \n",
       "2017-08-11    463.733856\n",
       "2017-08-12    444.798279\n",
       "2017-08-13    485.768616\n",
       "2017-08-14    427.004730\n",
       "2017-08-15    427.980896\n",
       "Freq: D, Name: sales, Length: 227, dtype: float32"
      ]
     },
     "execution_count": 4,
     "metadata": {},
     "output_type": "execute_result"
    }
   ],
   "source": [
    "average_sales"
   ]
  },
  {
   "cell_type": "markdown",
   "metadata": {
    "papermill": {
     "duration": 0.007927,
     "end_time": "2022-11-22T18:45:35.886309",
     "exception": false,
     "start_time": "2022-11-22T18:45:35.878382",
     "status": "completed"
    },
    "tags": []
   },
   "source": [
    "-------------------------------------------------------------------------------\n",
    "\n",
    "Examine the following seasonal plot:"
   ]
  },
  {
   "cell_type": "code",
   "execution_count": 5,
   "metadata": {
    "execution": {
     "iopub.execute_input": "2022-11-22T18:45:35.904997Z",
     "iopub.status.busy": "2022-11-22T18:45:35.904671Z",
     "iopub.status.idle": "2022-11-22T18:45:36.609728Z",
     "shell.execute_reply": "2022-11-22T18:45:36.608880Z"
    },
    "papermill": {
     "duration": 0.71674,
     "end_time": "2022-11-22T18:45:36.611472",
     "exception": false,
     "start_time": "2022-11-22T18:45:35.894732",
     "status": "completed"
    },
    "tags": []
   },
   "outputs": [
    {
     "data": {
      "image/png": "[encoded data removed]",
      "text/plain": [
       "<Figure size 792x288 with 1 Axes>"
      ]
     },
     "metadata": {},
     "output_type": "display_data"
    }
   ],
   "source": [
    "X = average_sales.to_frame()\n",
    "X[\"week\"] = X.index.week\n",
    "X[\"day\"] = X.index.dayofweek\n",
    "seasonal_plot(X, y='sales', period='week', freq='day');"
   ]
  },
  {
   "cell_type": "markdown",
   "metadata": {
    "papermill": {
     "duration": 0.009172,
     "end_time": "2022-11-22T18:45:36.630330",
     "exception": false,
     "start_time": "2022-11-22T18:45:36.621158",
     "status": "completed"
    },
    "tags": []
   },
   "source": [
    "And also the periodogram:"
   ]
  },
  {
   "cell_type": "code",
   "execution_count": 6,
   "metadata": {
    "execution": {
     "iopub.execute_input": "2022-11-22T18:45:36.651431Z",
     "iopub.status.busy": "2022-11-22T18:45:36.650906Z",
     "iopub.status.idle": "2022-11-22T18:45:37.110826Z",
     "shell.execute_reply": "2022-11-22T18:45:37.109907Z"
    },
    "papermill": {
     "duration": 0.473216,
     "end_time": "2022-11-22T18:45:37.113141",
     "exception": false,
     "start_time": "2022-11-22T18:45:36.639925",
     "status": "completed"
    },
    "tags": []
   },
   "outputs": [
    {
     "data": {
      "image/png": "[encoded data removed]",
      "text/plain": [
       "<Figure size 792x288 with 1 Axes>"
      ]
     },
     "metadata": {},
     "output_type": "display_data"
    }
   ],
   "source": [
    "plot_periodogram(average_sales);"
   ]
  },
  {
   "cell_type": "markdown",
   "metadata": {
    "papermill": {
     "duration": 0.009325,
     "end_time": "2022-11-22T18:45:37.132350",
     "exception": false,
     "start_time": "2022-11-22T18:45:37.123025",
     "status": "completed"
    },
    "tags": []
   },
   "source": [
    "# Features Engineering & Model \n",
    "<div style=\"color:white;\n",
    "           display:fill;\n",
    "           border-radius:5px;\n",
    "           background-color:#5042C5;\n",
    "           font-size:110%;\n",
    "           font-family:Verdana;\n",
    "           letter-spacing:0.5px\">\n",
    "\n",
    "<p style=\"padding: 10px;\n",
    "              color:white;\">\n",
    "\n",
    "</p>\n",
    "</div>"
   ]
  },
  {
   "cell_type": "markdown",
   "metadata": {
    "papermill": {
     "duration": 0.009602,
     "end_time": "2022-11-22T18:45:37.151742",
     "exception": false,
     "start_time": "2022-11-22T18:45:37.142140",
     "status": "completed"
    },
    "tags": []
   },
   "source": [
    "### Preparing data"
   ]
  },
  {
   "cell_type": "code",
   "execution_count": 7,
   "metadata": {
    "execution": {
     "iopub.execute_input": "2022-11-22T18:45:37.174532Z",
     "iopub.status.busy": "2022-11-22T18:45:37.173660Z",
     "iopub.status.idle": "2022-11-22T18:45:38.223181Z",
     "shell.execute_reply": "2022-11-22T18:45:38.222367Z"
    },
    "papermill": {
     "duration": 1.062978,
     "end_time": "2022-11-22T18:45:38.225556",
     "exception": false,
     "start_time": "2022-11-22T18:45:37.162578",
     "status": "completed"
    },
    "tags": []
   },
   "outputs": [],
   "source": [
    "y = store_sales.unstack(['store_nbr', 'family']).loc[\"2017\"]\n",
    "\n",
    "# Create training data\n",
    "fourier = CalendarFourier(freq='W', order=12)\n",
    "dp = DeterministicProcess(\n",
    "    index=y.index,\n",
    "    constant=True,\n",
    "    order=1,\n",
    "    seasonal=True,\n",
    "    additional_terms=[fourier],\n",
    "    drop=True,\n",
    ")\n",
    "X = dp.in_sample()\n",
    "X['NewYear'] = (X.index.dayofyear == 1)\n",
    "\n",
    "\n",
    "model = LinearRegression(fit_intercept=False)\n",
    "model.fit(X, y)\n",
    "y_pred = pd.DataFrame(model.predict(X), index=X.index, columns=y.columns)"
   ]
  },
  {
   "cell_type": "code",
   "execution_count": 8,
   "metadata": {
    "execution": {
     "iopub.execute_input": "2022-11-22T18:45:38.302867Z",
     "iopub.status.busy": "2022-11-22T18:45:38.302485Z",
     "iopub.status.idle": "2022-11-22T18:45:38.353245Z",
     "shell.execute_reply": "2022-11-22T18:45:38.352578Z"
    },
    "papermill": {
     "duration": 0.090138,
     "end_time": "2022-11-22T18:45:38.355495",
     "exception": false,
     "start_time": "2022-11-22T18:45:38.265357",
     "status": "completed"
    },
    "tags": []
   },
   "outputs": [],
   "source": [
    "df_test = pd.read_csv(\n",
    "    comp_dir / 'test.csv',\n",
    "    dtype={\n",
    "        'store_nbr': 'category',\n",
    "        'family': 'category',\n",
    "        'onpromotion': 'uint32',\n",
    "    },\n",
    "    parse_dates=['date'],\n",
    "    infer_datetime_format=True,\n",
    ")\n",
    "df_test['date'] = df_test.date.dt.to_period('D')\n",
    "df_test = df_test.set_index(['store_nbr', 'family', 'date']).sort_index()\n",
    "\n",
    "# Create features for test set\n",
    "X_test = dp.out_of_sample(steps=16)\n",
    "X_test.index.name = 'date'\n",
    "X_test['NewYear'] = (X_test.index.dayofyear == 1)"
   ]
  },
  {
   "cell_type": "markdown",
   "metadata": {
    "execution": {
     "iopub.execute_input": "2022-11-09T21:27:20.076798Z",
     "iopub.status.busy": "2022-11-09T21:27:20.076345Z",
     "iopub.status.idle": "2022-11-09T21:27:20.129030Z",
     "shell.execute_reply": "2022-11-09T21:27:20.127702Z",
     "shell.execute_reply.started": "2022-11-09T21:27:20.076762Z"
    },
    "papermill": {
     "duration": 0.009545,
     "end_time": "2022-11-22T18:45:38.375108",
     "exception": false,
     "start_time": "2022-11-22T18:45:38.365563",
     "status": "completed"
    },
    "tags": []
   },
   "source": [
    "### TRAINSET"
   ]
  },
  {
   "cell_type": "code",
   "execution_count": 9,
   "metadata": {
    "execution": {
     "iopub.execute_input": "2022-11-22T18:45:38.396913Z",
     "iopub.status.busy": "2022-11-22T18:45:38.396362Z",
     "iopub.status.idle": "2022-11-22T18:45:38.401665Z",
     "shell.execute_reply": "2022-11-22T18:45:38.400305Z"
    },
    "papermill": {
     "duration": 0.019252,
     "end_time": "2022-11-22T18:45:38.404304",
     "exception": false,
     "start_time": "2022-11-22T18:45:38.385052",
     "status": "completed"
    },
    "tags": []
   },
   "outputs": [],
   "source": [
    "## fixing date keyerror \n",
    "X['date'] =  X.index\n",
    "X.reset_index(drop= True, inplace= True)\n"
   ]
  },
  {
   "cell_type": "code",
   "execution_count": 10,
   "metadata": {
    "execution": {
     "iopub.execute_input": "2022-11-22T18:45:38.424950Z",
     "iopub.status.busy": "2022-11-22T18:45:38.424613Z",
     "iopub.status.idle": "2022-11-22T18:45:38.471926Z",
     "shell.execute_reply": "2022-11-22T18:45:38.470093Z"
    },
    "papermill": {
     "duration": 0.061091,
     "end_time": "2022-11-22T18:45:38.475104",
     "exception": false,
     "start_time": "2022-11-22T18:45:38.414013",
     "status": "completed"
    },
    "tags": []
   },
   "outputs": [
    {
     "data": {
      "text/html": [
       "<div>\n",
       "<style scoped>\n",
       "    .dataframe tbody tr th:only-of-type {\n",
       "        vertical-align: middle;\n",
       "    }\n",
       "\n",
       "    .dataframe tbody tr th {\n",
       "        vertical-align: top;\n",
       "    }\n",
       "\n",
       "    .dataframe thead th {\n",
       "        text-align: right;\n",
       "    }\n",
       "</style>\n",
       "<table border=\"1\" class=\"dataframe\">\n",
       "  <thead>\n",
       "    <tr style=\"text-align: right;\">\n",
       "      <th></th>\n",
       "      <th>const</th>\n",
       "      <th>trend</th>\n",
       "      <th>s(2,7)</th>\n",
       "      <th>s(3,7)</th>\n",
       "      <th>s(4,7)</th>\n",
       "      <th>s(5,7)</th>\n",
       "      <th>s(6,7)</th>\n",
       "      <th>s(7,7)</th>\n",
       "      <th>NewYear</th>\n",
       "      <th>is_holiday</th>\n",
       "      <th>day_of_week</th>\n",
       "      <th>day_of_year</th>\n",
       "    </tr>\n",
       "    <tr>\n",
       "      <th>date</th>\n",
       "      <th></th>\n",
       "      <th></th>\n",
       "      <th></th>\n",
       "      <th></th>\n",
       "      <th></th>\n",
       "      <th></th>\n",
       "      <th></th>\n",
       "      <th></th>\n",
       "      <th></th>\n",
       "      <th></th>\n",
       "      <th></th>\n",
       "      <th></th>\n",
       "    </tr>\n",
       "  </thead>\n",
       "  <tbody>\n",
       "    <tr>\n",
       "      <th>2017-01-01</th>\n",
       "      <td>1.0</td>\n",
       "      <td>1.0</td>\n",
       "      <td>0.0</td>\n",
       "      <td>0.0</td>\n",
       "      <td>0.0</td>\n",
       "      <td>0.0</td>\n",
       "      <td>0.0</td>\n",
       "      <td>0.0</td>\n",
       "      <td>True</td>\n",
       "      <td>0</td>\n",
       "      <td>6</td>\n",
       "      <td>1</td>\n",
       "    </tr>\n",
       "    <tr>\n",
       "      <th>2017-01-02</th>\n",
       "      <td>1.0</td>\n",
       "      <td>2.0</td>\n",
       "      <td>1.0</td>\n",
       "      <td>0.0</td>\n",
       "      <td>0.0</td>\n",
       "      <td>0.0</td>\n",
       "      <td>0.0</td>\n",
       "      <td>0.0</td>\n",
       "      <td>False</td>\n",
       "      <td>0</td>\n",
       "      <td>0</td>\n",
       "      <td>2</td>\n",
       "    </tr>\n",
       "    <tr>\n",
       "      <th>2017-01-03</th>\n",
       "      <td>1.0</td>\n",
       "      <td>3.0</td>\n",
       "      <td>0.0</td>\n",
       "      <td>1.0</td>\n",
       "      <td>0.0</td>\n",
       "      <td>0.0</td>\n",
       "      <td>0.0</td>\n",
       "      <td>0.0</td>\n",
       "      <td>False</td>\n",
       "      <td>0</td>\n",
       "      <td>1</td>\n",
       "      <td>3</td>\n",
       "    </tr>\n",
       "    <tr>\n",
       "      <th>2017-01-04</th>\n",
       "      <td>1.0</td>\n",
       "      <td>4.0</td>\n",
       "      <td>0.0</td>\n",
       "      <td>0.0</td>\n",
       "      <td>1.0</td>\n",
       "      <td>0.0</td>\n",
       "      <td>0.0</td>\n",
       "      <td>0.0</td>\n",
       "      <td>False</td>\n",
       "      <td>0</td>\n",
       "      <td>2</td>\n",
       "      <td>4</td>\n",
       "    </tr>\n",
       "    <tr>\n",
       "      <th>2017-01-05</th>\n",
       "      <td>1.0</td>\n",
       "      <td>5.0</td>\n",
       "      <td>0.0</td>\n",
       "      <td>0.0</td>\n",
       "      <td>0.0</td>\n",
       "      <td>1.0</td>\n",
       "      <td>0.0</td>\n",
       "      <td>0.0</td>\n",
       "      <td>False</td>\n",
       "      <td>0</td>\n",
       "      <td>3</td>\n",
       "      <td>5</td>\n",
       "    </tr>\n",
       "  </tbody>\n",
       "</table>\n",
       "</div>"
      ],
      "text/plain": [
       "            const  trend  s(2,7)  s(3,7)  s(4,7)  s(5,7)  s(6,7)  s(7,7)  \\\n",
       "date                                                                       \n",
       "2017-01-01    1.0    1.0     0.0     0.0     0.0     0.0     0.0     0.0   \n",
       "2017-01-02    1.0    2.0     1.0     0.0     0.0     0.0     0.0     0.0   \n",
       "2017-01-03    1.0    3.0     0.0     1.0     0.0     0.0     0.0     0.0   \n",
       "2017-01-04    1.0    4.0     0.0     0.0     1.0     0.0     0.0     0.0   \n",
       "2017-01-05    1.0    5.0     0.0     0.0     0.0     1.0     0.0     0.0   \n",
       "\n",
       "            NewYear  is_holiday  day_of_week  day_of_year  \n",
       "date                                                       \n",
       "2017-01-01     True           0            6            1  \n",
       "2017-01-02    False           0            0            2  \n",
       "2017-01-03    False           0            1            3  \n",
       "2017-01-04    False           0            2            4  \n",
       "2017-01-05    False           0            3            5  "
      ]
     },
     "execution_count": 10,
     "metadata": {},
     "output_type": "execute_result"
    }
   ],
   "source": [
    "## Merging and Mapping:\n",
    "holidays_events=pd.read_csv(path+'holidays_events.csv',parse_dates=['date'])\n",
    "\n",
    "holidays_events=holidays_events[['date','type']] ## Keep date & holiday type for merging\n",
    "X=pd.merge(left=X, right=holidays_events, on='date', how='left')\n",
    "\n",
    "X.rename({'type':'is_holiday'},axis=1,inplace=True)\n",
    "X['is_holiday']=X.is_holiday.map({'Holiday':1,'Additional':1,'Event':1,\n",
    "                                                  'Bridge':1,'Transfer':1}).fillna(0).astype('int8')\n",
    "\n",
    "## Adding weekends to holiday as well\n",
    "X.set_index('date',inplace=True)\n",
    "X['day_of_week']=X.index.dayofweek.astype('int8')\n",
    "X.loc[(X['day_of_week']==5) | (X['day_of_week']==6), 'is_holiday']=1\n",
    "\n",
    "## Removing he first day of a year from holidays as mentioned before Favorita is closed these days.\n",
    "X['day_of_year']=X.index.dayofyear.astype('int16')\n",
    "X.loc[X['day_of_year']==1 ,'is_holiday']=0\n",
    "\n",
    "\n",
    "X.head()"
   ]
  },
  {
   "cell_type": "code",
   "execution_count": 11,
   "metadata": {
    "execution": {
     "iopub.execute_input": "2022-11-22T18:45:38.497713Z",
     "iopub.status.busy": "2022-11-22T18:45:38.497196Z",
     "iopub.status.idle": "2022-11-22T18:45:38.504367Z",
     "shell.execute_reply": "2022-11-22T18:45:38.503306Z"
    },
    "papermill": {
     "duration": 0.020778,
     "end_time": "2022-11-22T18:45:38.506493",
     "exception": false,
     "start_time": "2022-11-22T18:45:38.485715",
     "status": "completed"
    },
    "tags": []
   },
   "outputs": [],
   "source": [
    "X['date']=X.index\n",
    "X['date']=X['date'].astype(str)\n",
    "X['date']=pd.to_datetime(X['date'])"
   ]
  },
  {
   "cell_type": "code",
   "execution_count": 12,
   "metadata": {
    "execution": {
     "iopub.execute_input": "2022-11-22T18:45:38.530015Z",
     "iopub.status.busy": "2022-11-22T18:45:38.528532Z",
     "iopub.status.idle": "2022-11-22T18:45:38.534404Z",
     "shell.execute_reply": "2022-11-22T18:45:38.533149Z"
    },
    "papermill": {
     "duration": 0.020001,
     "end_time": "2022-11-22T18:45:38.536767",
     "exception": false,
     "start_time": "2022-11-22T18:45:38.516766",
     "status": "completed"
    },
    "tags": []
   },
   "outputs": [],
   "source": [
    "X.reset_index(drop=True, inplace=True)\n",
    "oil.reset_index(drop=True, inplace=True)"
   ]
  },
  {
   "cell_type": "code",
   "execution_count": 13,
   "metadata": {
    "execution": {
     "iopub.execute_input": "2022-11-22T18:45:38.559047Z",
     "iopub.status.busy": "2022-11-22T18:45:38.558194Z",
     "iopub.status.idle": "2022-11-22T18:45:38.722689Z",
     "shell.execute_reply": "2022-11-22T18:45:38.721149Z"
    },
    "papermill": {
     "duration": 0.178321,
     "end_time": "2022-11-22T18:45:38.725015",
     "exception": false,
     "start_time": "2022-11-22T18:45:38.546694",
     "status": "completed"
    },
    "tags": []
   },
   "outputs": [],
   "source": [
    "## create onpromotion feature \n",
    "onpromtionTrain = train.groupby(['date']).mean().loc[\"2017\"]['onpromotion']\n",
    "onpromtionTrain = pd.DataFrame(onpromtionTrain)\n",
    "onpromtionTrain['date'] = onpromtionTrain.index\n",
    "onpromtionTrain.reset_index(drop=True, inplace=True)"
   ]
  },
  {
   "cell_type": "code",
   "execution_count": 14,
   "metadata": {
    "execution": {
     "iopub.execute_input": "2022-11-22T18:45:38.747124Z",
     "iopub.status.busy": "2022-11-22T18:45:38.746708Z",
     "iopub.status.idle": "2022-11-22T18:45:38.757695Z",
     "shell.execute_reply": "2022-11-22T18:45:38.755916Z"
    },
    "papermill": {
     "duration": 0.024978,
     "end_time": "2022-11-22T18:45:38.760266",
     "exception": false,
     "start_time": "2022-11-22T18:45:38.735288",
     "status": "completed"
    },
    "tags": []
   },
   "outputs": [],
   "source": [
    "X=pd.merge(left=X,right=oil,on='date',how='left')\n",
    "X.rename({'dcoilwtico':'oil_price'},axis=1,inplace=True)\n",
    "X['oil_price']=X['oil_price'].fillna(0)\n"
   ]
  },
  {
   "cell_type": "code",
   "execution_count": 15,
   "metadata": {
    "execution": {
     "iopub.execute_input": "2022-11-22T18:45:38.782380Z",
     "iopub.status.busy": "2022-11-22T18:45:38.782074Z",
     "iopub.status.idle": "2022-11-22T18:45:38.791080Z",
     "shell.execute_reply": "2022-11-22T18:45:38.789953Z"
    },
    "papermill": {
     "duration": 0.02339,
     "end_time": "2022-11-22T18:45:38.794080",
     "exception": false,
     "start_time": "2022-11-22T18:45:38.770690",
     "status": "completed"
    },
    "tags": []
   },
   "outputs": [],
   "source": [
    "X=pd.merge(left=X, right=onpromtionTrain, on='date', how='left')"
   ]
  },
  {
   "cell_type": "code",
   "execution_count": 16,
   "metadata": {
    "execution": {
     "iopub.execute_input": "2022-11-22T18:45:38.815496Z",
     "iopub.status.busy": "2022-11-22T18:45:38.815152Z",
     "iopub.status.idle": "2022-11-22T18:45:38.825133Z",
     "shell.execute_reply": "2022-11-22T18:45:38.823740Z"
    },
    "papermill": {
     "duration": 0.023347,
     "end_time": "2022-11-22T18:45:38.827292",
     "exception": false,
     "start_time": "2022-11-22T18:45:38.803945",
     "status": "completed"
    },
    "tags": []
   },
   "outputs": [],
   "source": [
    "## drop X row with NAN\n",
    "X.dropna(inplace=True)\n",
    "y = y.iloc[X.index]"
   ]
  },
  {
   "cell_type": "markdown",
   "metadata": {
    "papermill": {
     "duration": 0.010282,
     "end_time": "2022-11-22T18:45:38.847132",
     "exception": false,
     "start_time": "2022-11-22T18:45:38.836850",
     "status": "completed"
    },
    "tags": []
   },
   "source": [
    "### TESTSET"
   ]
  },
  {
   "cell_type": "code",
   "execution_count": 17,
   "metadata": {
    "execution": {
     "iopub.execute_input": "2022-11-22T18:45:38.868271Z",
     "iopub.status.busy": "2022-11-22T18:45:38.867983Z",
     "iopub.status.idle": "2022-11-22T18:45:38.905276Z",
     "shell.execute_reply": "2022-11-22T18:45:38.903353Z"
    },
    "papermill": {
     "duration": 0.050367,
     "end_time": "2022-11-22T18:45:38.907534",
     "exception": false,
     "start_time": "2022-11-22T18:45:38.857167",
     "status": "completed"
    },
    "tags": []
   },
   "outputs": [
    {
     "data": {
      "text/html": [
       "<div>\n",
       "<style scoped>\n",
       "    .dataframe tbody tr th:only-of-type {\n",
       "        vertical-align: middle;\n",
       "    }\n",
       "\n",
       "    .dataframe tbody tr th {\n",
       "        vertical-align: top;\n",
       "    }\n",
       "\n",
       "    .dataframe thead th {\n",
       "        text-align: right;\n",
       "    }\n",
       "</style>\n",
       "<table border=\"1\" class=\"dataframe\">\n",
       "  <thead>\n",
       "    <tr style=\"text-align: right;\">\n",
       "      <th></th>\n",
       "      <th>const</th>\n",
       "      <th>trend</th>\n",
       "      <th>s(2,7)</th>\n",
       "      <th>s(3,7)</th>\n",
       "      <th>s(4,7)</th>\n",
       "      <th>s(5,7)</th>\n",
       "      <th>s(6,7)</th>\n",
       "      <th>s(7,7)</th>\n",
       "      <th>NewYear</th>\n",
       "      <th>is_holiday</th>\n",
       "      <th>day_of_week</th>\n",
       "      <th>day_of_year</th>\n",
       "    </tr>\n",
       "    <tr>\n",
       "      <th>date</th>\n",
       "      <th></th>\n",
       "      <th></th>\n",
       "      <th></th>\n",
       "      <th></th>\n",
       "      <th></th>\n",
       "      <th></th>\n",
       "      <th></th>\n",
       "      <th></th>\n",
       "      <th></th>\n",
       "      <th></th>\n",
       "      <th></th>\n",
       "      <th></th>\n",
       "    </tr>\n",
       "  </thead>\n",
       "  <tbody>\n",
       "    <tr>\n",
       "      <th>2017-08-16</th>\n",
       "      <td>1.0</td>\n",
       "      <td>228.0</td>\n",
       "      <td>0.0</td>\n",
       "      <td>0.0</td>\n",
       "      <td>1.0</td>\n",
       "      <td>0.0</td>\n",
       "      <td>0.0</td>\n",
       "      <td>0.0</td>\n",
       "      <td>False</td>\n",
       "      <td>0</td>\n",
       "      <td>2</td>\n",
       "      <td>228</td>\n",
       "    </tr>\n",
       "    <tr>\n",
       "      <th>2017-08-17</th>\n",
       "      <td>1.0</td>\n",
       "      <td>229.0</td>\n",
       "      <td>0.0</td>\n",
       "      <td>0.0</td>\n",
       "      <td>0.0</td>\n",
       "      <td>1.0</td>\n",
       "      <td>0.0</td>\n",
       "      <td>0.0</td>\n",
       "      <td>False</td>\n",
       "      <td>0</td>\n",
       "      <td>3</td>\n",
       "      <td>229</td>\n",
       "    </tr>\n",
       "    <tr>\n",
       "      <th>2017-08-18</th>\n",
       "      <td>1.0</td>\n",
       "      <td>230.0</td>\n",
       "      <td>0.0</td>\n",
       "      <td>0.0</td>\n",
       "      <td>0.0</td>\n",
       "      <td>0.0</td>\n",
       "      <td>1.0</td>\n",
       "      <td>0.0</td>\n",
       "      <td>False</td>\n",
       "      <td>0</td>\n",
       "      <td>4</td>\n",
       "      <td>230</td>\n",
       "    </tr>\n",
       "    <tr>\n",
       "      <th>2017-08-19</th>\n",
       "      <td>1.0</td>\n",
       "      <td>231.0</td>\n",
       "      <td>0.0</td>\n",
       "      <td>0.0</td>\n",
       "      <td>0.0</td>\n",
       "      <td>0.0</td>\n",
       "      <td>0.0</td>\n",
       "      <td>1.0</td>\n",
       "      <td>False</td>\n",
       "      <td>1</td>\n",
       "      <td>5</td>\n",
       "      <td>231</td>\n",
       "    </tr>\n",
       "    <tr>\n",
       "      <th>2017-08-20</th>\n",
       "      <td>1.0</td>\n",
       "      <td>232.0</td>\n",
       "      <td>0.0</td>\n",
       "      <td>0.0</td>\n",
       "      <td>0.0</td>\n",
       "      <td>0.0</td>\n",
       "      <td>0.0</td>\n",
       "      <td>0.0</td>\n",
       "      <td>False</td>\n",
       "      <td>1</td>\n",
       "      <td>6</td>\n",
       "      <td>232</td>\n",
       "    </tr>\n",
       "  </tbody>\n",
       "</table>\n",
       "</div>"
      ],
      "text/plain": [
       "            const  trend  s(2,7)  s(3,7)  s(4,7)  s(5,7)  s(6,7)  s(7,7)  \\\n",
       "date                                                                       \n",
       "2017-08-16    1.0  228.0     0.0     0.0     1.0     0.0     0.0     0.0   \n",
       "2017-08-17    1.0  229.0     0.0     0.0     0.0     1.0     0.0     0.0   \n",
       "2017-08-18    1.0  230.0     0.0     0.0     0.0     0.0     1.0     0.0   \n",
       "2017-08-19    1.0  231.0     0.0     0.0     0.0     0.0     0.0     1.0   \n",
       "2017-08-20    1.0  232.0     0.0     0.0     0.0     0.0     0.0     0.0   \n",
       "\n",
       "            NewYear  is_holiday  day_of_week  day_of_year  \n",
       "date                                                       \n",
       "2017-08-16    False           0            2          228  \n",
       "2017-08-17    False           0            3          229  \n",
       "2017-08-18    False           0            4          230  \n",
       "2017-08-19    False           1            5          231  \n",
       "2017-08-20    False           1            6          232  "
      ]
     },
     "execution_count": 17,
     "metadata": {},
     "output_type": "execute_result"
    }
   ],
   "source": [
    "## Merging and Mapping:\n",
    "holidays_events=holidays_events[['date','type']] ## Keep date & holiday type for merging\n",
    "X_test=pd.merge(left=X_test, right=holidays_events, on='date', how='left')\n",
    "X_test.rename({'type':'is_holiday'},axis=1,inplace=True)\n",
    "X_test['is_holiday']=X_test.is_holiday.map({'Holiday':1,'Additional':1,'Event':1,\n",
    "                                                  'Bridge':1,'Transfer':1}).fillna(0).astype('int8')\n",
    "\n",
    "## Adding weekends to holiday as well\n",
    "X_test.set_index('date',inplace=True)\n",
    "X_test['day_of_week']=X_test.index.dayofweek.astype('int8')\n",
    "X_test.loc[(X_test['day_of_week']==5) | (X_test['day_of_week']==6), 'is_holiday']=1\n",
    "\n",
    "## Removing he first day of a year from holidays as mentioned before Favorita is closed these days.\n",
    "X_test['day_of_year']=X_test.index.dayofyear.astype('int16')\n",
    "X_test.loc[X_test['day_of_year']==1 ,'is_holiday']=0\n",
    "\n",
    "X_test.head()"
   ]
  },
  {
   "cell_type": "code",
   "execution_count": 18,
   "metadata": {
    "execution": {
     "iopub.execute_input": "2022-11-22T18:45:38.930046Z",
     "iopub.status.busy": "2022-11-22T18:45:38.929682Z",
     "iopub.status.idle": "2022-11-22T18:45:38.939910Z",
     "shell.execute_reply": "2022-11-22T18:45:38.938149Z"
    },
    "papermill": {
     "duration": 0.025103,
     "end_time": "2022-11-22T18:45:38.942729",
     "exception": false,
     "start_time": "2022-11-22T18:45:38.917626",
     "status": "completed"
    },
    "tags": []
   },
   "outputs": [],
   "source": [
    "X_test['date']=X_test.index\n",
    "X_test['date']=X_test['date'].astype(str)\n",
    "X_test['date']=pd.to_datetime(X_test['date'])"
   ]
  },
  {
   "cell_type": "code",
   "execution_count": 19,
   "metadata": {
    "execution": {
     "iopub.execute_input": "2022-11-22T18:45:38.964519Z",
     "iopub.status.busy": "2022-11-22T18:45:38.964207Z",
     "iopub.status.idle": "2022-11-22T18:45:38.974596Z",
     "shell.execute_reply": "2022-11-22T18:45:38.972889Z"
    },
    "papermill": {
     "duration": 0.024185,
     "end_time": "2022-11-22T18:45:38.977113",
     "exception": false,
     "start_time": "2022-11-22T18:45:38.952928",
     "status": "completed"
    },
    "tags": []
   },
   "outputs": [],
   "source": [
    "X_test=pd.merge(left=X_test,right=oil,left_index=True,right_index=True,how='left')\n",
    "X_test.rename({'dcoilwtico':'oil_price'},axis=1,inplace=True)\n",
    "X_test['oil_price']=X_test['oil_price'].fillna(0)"
   ]
  },
  {
   "cell_type": "code",
   "execution_count": 20,
   "metadata": {
    "execution": {
     "iopub.execute_input": "2022-11-22T18:45:38.999224Z",
     "iopub.status.busy": "2022-11-22T18:45:38.998832Z",
     "iopub.status.idle": "2022-11-22T18:45:39.007002Z",
     "shell.execute_reply": "2022-11-22T18:45:39.005717Z"
    },
    "papermill": {
     "duration": 0.02172,
     "end_time": "2022-11-22T18:45:39.009431",
     "exception": false,
     "start_time": "2022-11-22T18:45:38.987711",
     "status": "completed"
    },
    "tags": []
   },
   "outputs": [],
   "source": [
    "X_test.drop(columns=['date_y','date_x'], inplace=True)\n",
    "X.drop(columns='date', inplace=True)"
   ]
  },
  {
   "cell_type": "code",
   "execution_count": 21,
   "metadata": {
    "execution": {
     "iopub.execute_input": "2022-11-22T18:45:39.032685Z",
     "iopub.status.busy": "2022-11-22T18:45:39.032373Z",
     "iopub.status.idle": "2022-11-22T18:45:39.038958Z",
     "shell.execute_reply": "2022-11-22T18:45:39.038015Z"
    },
    "papermill": {
     "duration": 0.019554,
     "end_time": "2022-11-22T18:45:39.040709",
     "exception": false,
     "start_time": "2022-11-22T18:45:39.021155",
     "status": "completed"
    },
    "tags": []
   },
   "outputs": [],
   "source": [
    "X_test['date'] = X_test.index\n",
    "X_test.reset_index(drop=True, inplace=True)"
   ]
  },
  {
   "cell_type": "code",
   "execution_count": 22,
   "metadata": {
    "execution": {
     "iopub.execute_input": "2022-11-22T18:45:39.062835Z",
     "iopub.status.busy": "2022-11-22T18:45:39.062517Z",
     "iopub.status.idle": "2022-11-22T18:45:39.075634Z",
     "shell.execute_reply": "2022-11-22T18:45:39.074606Z"
    },
    "papermill": {
     "duration": 0.026893,
     "end_time": "2022-11-22T18:45:39.078007",
     "exception": false,
     "start_time": "2022-11-22T18:45:39.051114",
     "status": "completed"
    },
    "tags": []
   },
   "outputs": [],
   "source": [
    "## create onpromotion feature \n",
    "onpromtionTest = df_test.groupby(['date']).mean().loc[\"2017\"]['onpromotion']\n",
    "onpromtionTest = pd.DataFrame(onpromtionTest)\n",
    "onpromtionTest['date'] = onpromtionTest.index\n",
    "onpromtionTest.reset_index(drop=True, inplace=True)"
   ]
  },
  {
   "cell_type": "code",
   "execution_count": 23,
   "metadata": {
    "execution": {
     "iopub.execute_input": "2022-11-22T18:45:39.107114Z",
     "iopub.status.busy": "2022-11-22T18:45:39.106700Z",
     "iopub.status.idle": "2022-11-22T18:45:39.116423Z",
     "shell.execute_reply": "2022-11-22T18:45:39.114705Z"
    },
    "papermill": {
     "duration": 0.027102,
     "end_time": "2022-11-22T18:45:39.119217",
     "exception": false,
     "start_time": "2022-11-22T18:45:39.092115",
     "status": "completed"
    },
    "tags": []
   },
   "outputs": [],
   "source": [
    "X_test=pd.merge(left=X_test, right=onpromtionTest, on='date', how='left')"
   ]
  },
  {
   "cell_type": "code",
   "execution_count": 24,
   "metadata": {
    "execution": {
     "iopub.execute_input": "2022-11-22T18:45:39.142148Z",
     "iopub.status.busy": "2022-11-22T18:45:39.141790Z",
     "iopub.status.idle": "2022-11-22T18:45:39.149049Z",
     "shell.execute_reply": "2022-11-22T18:45:39.147264Z"
    },
    "papermill": {
     "duration": 0.021667,
     "end_time": "2022-11-22T18:45:39.151438",
     "exception": false,
     "start_time": "2022-11-22T18:45:39.129771",
     "status": "completed"
    },
    "tags": []
   },
   "outputs": [],
   "source": [
    "X_test.drop(columns=['date'], inplace=True)"
   ]
  },
  {
   "cell_type": "code",
   "execution_count": 25,
   "metadata": {
    "execution": {
     "iopub.execute_input": "2022-11-22T18:45:39.177631Z",
     "iopub.status.busy": "2022-11-22T18:45:39.177337Z",
     "iopub.status.idle": "2022-11-22T18:45:39.181717Z",
     "shell.execute_reply": "2022-11-22T18:45:39.180239Z"
    },
    "papermill": {
     "duration": 0.01936,
     "end_time": "2022-11-22T18:45:39.184070",
     "exception": false,
     "start_time": "2022-11-22T18:45:39.164710",
     "status": "completed"
    },
    "tags": []
   },
   "outputs": [],
   "source": [
    "#X.drop(columns=['date'], inplace=True)"
   ]
  },
  {
   "cell_type": "code",
   "execution_count": 26,
   "metadata": {
    "execution": {
     "iopub.execute_input": "2022-11-22T18:45:39.206570Z",
     "iopub.status.busy": "2022-11-22T18:45:39.206245Z",
     "iopub.status.idle": "2022-11-22T18:45:39.214096Z",
     "shell.execute_reply": "2022-11-22T18:45:39.212349Z"
    },
    "papermill": {
     "duration": 0.022273,
     "end_time": "2022-11-22T18:45:39.216601",
     "exception": false,
     "start_time": "2022-11-22T18:45:39.194328",
     "status": "completed"
    },
    "tags": []
   },
   "outputs": [],
   "source": [
    "# A parameter grid for XGBoost\n",
    "params = {\n",
    "    'learning_rate':[0.001,0.1,0.3,0.5,1],\n",
    "        'min_child_weight': [1, 5, 10],\n",
    "        'gamma': [0.5, 1, 1.5, 2, 5],\n",
    "        'subsample': [0.6, 0.8, 1.0],\n",
    "        'colsample_bytree': [0.6, 0.8, 1.0],\n",
    "        'max_depth': [3, 4, 5,7]\n",
    "        }"
   ]
  },
  {
   "cell_type": "code",
   "execution_count": 27,
   "metadata": {
    "execution": {
     "iopub.execute_input": "2022-11-22T18:45:39.241200Z",
     "iopub.status.busy": "2022-11-22T18:45:39.240861Z",
     "iopub.status.idle": "2022-11-22T18:45:39.248436Z",
     "shell.execute_reply": "2022-11-22T18:45:39.246665Z"
    },
    "papermill": {
     "duration": 0.023047,
     "end_time": "2022-11-22T18:45:39.251139",
     "exception": false,
     "start_time": "2022-11-22T18:45:39.228092",
     "status": "completed"
    },
    "tags": []
   },
   "outputs": [],
   "source": [
    "model = XGBRegressor(n_estimators=10, nthread=1)"
   ]
  },
  {
   "cell_type": "code",
   "execution_count": 28,
   "metadata": {
    "execution": {
     "iopub.execute_input": "2022-11-22T18:45:39.275764Z",
     "iopub.status.busy": "2022-11-22T18:45:39.275435Z",
     "iopub.status.idle": "2022-11-22T18:46:21.035240Z",
     "shell.execute_reply": "2022-11-22T18:46:21.034344Z"
    },
    "papermill": {
     "duration": 41.784335,
     "end_time": "2022-11-22T18:46:21.046665",
     "exception": false,
     "start_time": "2022-11-22T18:45:39.262330",
     "status": "completed"
    },
    "tags": []
   },
   "outputs": [
    {
     "name": "stdout",
     "output_type": "stream",
     "text": [
      "Fitting 3 folds for each of 10 candidates, totalling 30 fits\n"
     ]
    },
    {
     "data": {
      "text/plain": [
       "RandomizedSearchCV(cv=3,\n",
       "                   estimator=XGBRegressor(base_score=None, booster=None,\n",
       "                                          callbacks=None,\n",
       "                                          colsample_bylevel=None,\n",
       "                                          colsample_bynode=None,\n",
       "                                          colsample_bytree=None,\n",
       "                                          early_stopping_rounds=None,\n",
       "                                          enable_categorical=False,\n",
       "                                          eval_metric=None, gamma=None,\n",
       "                                          gpu_id=None, grow_policy=None,\n",
       "                                          importance_type=None,\n",
       "                                          interaction_constraints=None,\n",
       "                                          learning_rate=None, max_bin=None,\n",
       "                                          m...\n",
       "                                          n_estimators=10, n_jobs=None,\n",
       "                                          nthread=1, num_parallel_tree=None,\n",
       "                                          predictor=None, random_state=None,\n",
       "                                          reg_alpha=None, ...),\n",
       "                   n_jobs=4,\n",
       "                   param_distributions={'colsample_bytree': [0.6, 0.8, 1.0],\n",
       "                                        'gamma': [0.5, 1, 1.5, 2, 5],\n",
       "                                        'learning_rate': [0.001, 0.1, 0.3, 0.5,\n",
       "                                                          1],\n",
       "                                        'max_depth': [3, 4, 5, 7],\n",
       "                                        'min_child_weight': [1, 5, 10],\n",
       "                                        'subsample': [0.6, 0.8, 1.0]},\n",
       "                   scoring='neg_mean_absolute_error', verbose=3)"
      ]
     },
     "execution_count": 28,
     "metadata": {},
     "output_type": "execute_result"
    }
   ],
   "source": [
    "folds = 3  \n",
    "param_comb = 5 \n",
    "#skf = kfolds(n_splits=folds, shuffle = True, random_state = 1001)\n",
    "\n",
    "random_search = RandomizedSearchCV(model, param_distributions=params, scoring='neg_mean_absolute_error', n_jobs=4, cv=3, verbose=3,  )\n",
    "\n",
    "# Here we go\n",
    "#start_time = timer(None) # timing starts from this point for \"start_time\" variable\n",
    "random_search.fit(X, y)\n",
    "#timer(start_time) # timing ends here for \"start_time\" variable"
   ]
  },
  {
   "cell_type": "code",
   "execution_count": 29,
   "metadata": {
    "execution": {
     "iopub.execute_input": "2022-11-22T18:46:21.069238Z",
     "iopub.status.busy": "2022-11-22T18:46:21.068079Z",
     "iopub.status.idle": "2022-11-22T18:46:57.892100Z",
     "shell.execute_reply": "2022-11-22T18:46:57.890742Z"
    },
    "papermill": {
     "duration": 36.846419,
     "end_time": "2022-11-22T18:46:57.903115",
     "exception": false,
     "start_time": "2022-11-22T18:46:21.056696",
     "status": "completed"
    },
    "tags": []
   },
   "outputs": [
    {
     "name": "stdout",
     "output_type": "stream",
     "text": [
      "Fitting 3 folds for each of 10 candidates, totalling 30 fits\n"
     ]
    },
    {
     "data": {
      "text/plain": [
       "RandomizedSearchCV(cv=3,\n",
       "                   estimator=XGBRegressor(base_score=None, booster=None,\n",
       "                                          callbacks=None,\n",
       "                                          colsample_bylevel=None,\n",
       "                                          colsample_bynode=None,\n",
       "                                          colsample_bytree=None,\n",
       "                                          early_stopping_rounds=None,\n",
       "                                          enable_categorical=False,\n",
       "                                          eval_metric=None, gamma=None,\n",
       "                                          gpu_id=None, grow_policy=None,\n",
       "                                          importance_type=None,\n",
       "                                          interaction_constraints=None,\n",
       "                                          learning_rate=None, max_bin=None,\n",
       "                                          m...\n",
       "                                          n_estimators=10, n_jobs=None,\n",
       "                                          nthread=1, num_parallel_tree=None,\n",
       "                                          predictor=None, random_state=None,\n",
       "                                          reg_alpha=None, ...),\n",
       "                   n_jobs=4,\n",
       "                   param_distributions={'colsample_bytree': [0.6, 0.8, 1.0],\n",
       "                                        'gamma': [0.5, 1, 1.5, 2, 5],\n",
       "                                        'learning_rate': [0.001, 0.1, 0.3, 0.5,\n",
       "                                                          1],\n",
       "                                        'max_depth': [3, 4, 5, 7],\n",
       "                                        'min_child_weight': [1, 5, 10],\n",
       "                                        'subsample': [0.6, 0.8, 1.0]},\n",
       "                   scoring='neg_mean_absolute_error', verbose=3)"
      ]
     },
     "execution_count": 29,
     "metadata": {},
     "output_type": "execute_result"
    }
   ],
   "source": [
    "random_search.fit(X, y)"
   ]
  },
  {
   "cell_type": "code",
   "execution_count": 30,
   "metadata": {
    "execution": {
     "iopub.execute_input": "2022-11-22T18:46:57.925626Z",
     "iopub.status.busy": "2022-11-22T18:46:57.925290Z",
     "iopub.status.idle": "2022-11-22T18:46:57.943986Z",
     "shell.execute_reply": "2022-11-22T18:46:57.942304Z"
    },
    "papermill": {
     "duration": 0.033017,
     "end_time": "2022-11-22T18:46:57.946494",
     "exception": false,
     "start_time": "2022-11-22T18:46:57.913477",
     "status": "completed"
    },
    "tags": []
   },
   "outputs": [],
   "source": [
    "y_test = random_search.predict(X_test)"
   ]
  },
  {
   "cell_type": "code",
   "execution_count": 31,
   "metadata": {
    "execution": {
     "iopub.execute_input": "2022-11-22T18:46:57.969455Z",
     "iopub.status.busy": "2022-11-22T18:46:57.968791Z",
     "iopub.status.idle": "2022-11-22T18:46:57.982767Z",
     "shell.execute_reply": "2022-11-22T18:46:57.981840Z"
    },
    "papermill": {
     "duration": 0.028389,
     "end_time": "2022-11-22T18:46:57.985507",
     "exception": false,
     "start_time": "2022-11-22T18:46:57.957118",
     "status": "completed"
    },
    "tags": []
   },
   "outputs": [
    {
     "name": "stdout",
     "output_type": "stream",
     "text": [
      "\n",
      " All results:\n",
      "{'mean_fit_time': array([7.00930826, 3.1225365 , 4.19639277, 3.38198161, 4.05677263,\n",
      "       3.72234933, 4.82631453, 3.94921597, 4.17776656, 3.9014891 ]), 'std_fit_time': array([0.07749651, 0.04421112, 0.02589753, 0.08659266, 0.13529317,\n",
      "       0.0243102 , 0.05220339, 0.02208092, 0.00747854, 0.09342804]), 'mean_score_time': array([0.09803891, 0.05274566, 0.0588096 , 0.05970343, 0.05719336,\n",
      "       0.05120039, 0.07316065, 0.05137897, 0.05456265, 0.04705548]), 'std_score_time': array([0.00317044, 0.00211585, 0.00230637, 0.00569077, 0.004601  ,\n",
      "       0.00174933, 0.00886145, 0.00269559, 0.00412812, 0.00176083]), 'param_subsample': masked_array(data=[0.6, 0.8, 1.0, 1.0, 0.6, 1.0, 1.0, 0.6, 1.0, 0.8],\n",
      "             mask=[False, False, False, False, False, False, False, False,\n",
      "                   False, False],\n",
      "       fill_value='?',\n",
      "            dtype=object), 'param_min_child_weight': masked_array(data=[1, 10, 10, 5, 10, 5, 10, 10, 10, 1],\n",
      "             mask=[False, False, False, False, False, False, False, False,\n",
      "                   False, False],\n",
      "       fill_value='?',\n",
      "            dtype=object), 'param_max_depth': masked_array(data=[7, 3, 4, 4, 4, 4, 7, 5, 4, 7],\n",
      "             mask=[False, False, False, False, False, False, False, False,\n",
      "                   False, False],\n",
      "       fill_value='?',\n",
      "            dtype=object), 'param_learning_rate': masked_array(data=[1, 0.5, 0.3, 0.001, 1, 0.001, 1, 0.1, 0.1, 0.001],\n",
      "             mask=[False, False, False, False, False, False, False, False,\n",
      "                   False, False],\n",
      "       fill_value='?',\n",
      "            dtype=object), 'param_gamma': masked_array(data=[1.5, 1, 1, 0.5, 2, 5, 2, 1.5, 1.5, 0.5],\n",
      "             mask=[False, False, False, False, False, False, False, False,\n",
      "                   False, False],\n",
      "       fill_value='?',\n",
      "            dtype=object), 'param_colsample_bytree': masked_array(data=[0.8, 0.6, 0.8, 0.6, 0.8, 0.8, 0.6, 1.0, 1.0, 0.6],\n",
      "             mask=[False, False, False, False, False, False, False, False,\n",
      "                   False, False],\n",
      "       fill_value='?',\n",
      "            dtype=object), 'params': [{'subsample': 0.6, 'min_child_weight': 1, 'max_depth': 7, 'learning_rate': 1, 'gamma': 1.5, 'colsample_bytree': 0.8}, {'subsample': 0.8, 'min_child_weight': 10, 'max_depth': 3, 'learning_rate': 0.5, 'gamma': 1, 'colsample_bytree': 0.6}, {'subsample': 1.0, 'min_child_weight': 10, 'max_depth': 4, 'learning_rate': 0.3, 'gamma': 1, 'colsample_bytree': 0.8}, {'subsample': 1.0, 'min_child_weight': 5, 'max_depth': 4, 'learning_rate': 0.001, 'gamma': 0.5, 'colsample_bytree': 0.6}, {'subsample': 0.6, 'min_child_weight': 10, 'max_depth': 4, 'learning_rate': 1, 'gamma': 2, 'colsample_bytree': 0.8}, {'subsample': 1.0, 'min_child_weight': 5, 'max_depth': 4, 'learning_rate': 0.001, 'gamma': 5, 'colsample_bytree': 0.8}, {'subsample': 1.0, 'min_child_weight': 10, 'max_depth': 7, 'learning_rate': 1, 'gamma': 2, 'colsample_bytree': 0.6}, {'subsample': 0.6, 'min_child_weight': 10, 'max_depth': 5, 'learning_rate': 0.1, 'gamma': 1.5, 'colsample_bytree': 1.0}, {'subsample': 1.0, 'min_child_weight': 10, 'max_depth': 4, 'learning_rate': 0.1, 'gamma': 1.5, 'colsample_bytree': 1.0}, {'subsample': 0.8, 'min_child_weight': 1, 'max_depth': 7, 'learning_rate': 0.001, 'gamma': 0.5, 'colsample_bytree': 0.6}], 'split0_test_score': array([-112.01556396,  -85.86065674,  -82.7759552 , -470.14279175,\n",
      "        -94.54580688, -470.13061523,  -93.29692841, -185.10852051,\n",
      "       -183.1257019 , -470.16357422]), 'split1_test_score': array([-106.75858307,  -85.54206085,  -77.71076965, -478.9024353 ,\n",
      "       -105.47232819, -478.89654541, -103.93566132, -177.46148682,\n",
      "       -175.43757629, -478.87640381]), 'split2_test_score': array([-111.38839722,  -78.01487732,  -74.6153717 , -476.39520264,\n",
      "        -91.06280518, -476.37249756,  -89.27700043, -169.83976746,\n",
      "       -169.22685242, -476.46221924]), 'mean_test_score': array([-110.05418142,  -83.1391983 ,  -78.36736552, -475.1468099 ,\n",
      "        -97.02698008, -475.1332194 ,  -95.50319672, -177.46992493,\n",
      "       -175.93004354, -475.16739909]), 'std_test_score': array([2.34436358, 3.62577578, 3.36373992, 3.68344966, 6.13871613,\n",
      "       3.68440323, 6.18437815, 6.23344519, 5.68485692, 3.67294335]), 'rank_test_score': array([ 5,  2,  1,  9,  4,  8,  3,  7,  6, 10], dtype=int32)}\n",
      "\n",
      " Best estimator:\n",
      "XGBRegressor(base_score=0.5, booster='gbtree', callbacks=None,\n",
      "             colsample_bylevel=1, colsample_bynode=1, colsample_bytree=0.8,\n",
      "             early_stopping_rounds=None, enable_categorical=False,\n",
      "             eval_metric=None, gamma=1, gpu_id=-1, grow_policy='depthwise',\n",
      "             importance_type=None, interaction_constraints='',\n",
      "             learning_rate=0.3, max_bin=256, max_cat_to_onehot=4,\n",
      "             max_delta_step=0, max_depth=4, max_leaves=0, min_child_weight=10,\n",
      "             missing=nan, monotone_constraints='()', n_estimators=10, n_jobs=1,\n",
      "             nthread=1, num_parallel_tree=1, predictor='auto', random_state=0,\n",
      "             reg_alpha=0, ...)\n",
      "\n",
      " Best normalized gini score for 3-fold search with 5 parameter combinations:\n",
      "-157.73473103841147\n",
      "\n",
      " Best hyperparameters:\n",
      "{'subsample': 1.0, 'min_child_weight': 10, 'max_depth': 4, 'learning_rate': 0.3, 'gamma': 1, 'colsample_bytree': 0.8}\n"
     ]
    }
   ],
   "source": [
    "print('\\n All results:')\n",
    "print(random_search.cv_results_)\n",
    "print('\\n Best estimator:')\n",
    "print(random_search.best_estimator_)\n",
    "print('\\n Best normalized gini score for %d-fold search with %d parameter combinations:' % (folds, param_comb))\n",
    "print(random_search.best_score_ * 2 - 1)\n",
    "print('\\n Best hyperparameters:')\n",
    "print(random_search.best_params_)\n",
    "results = pd.DataFrame(random_search.cv_results_)"
   ]
  },
  {
   "cell_type": "code",
   "execution_count": 32,
   "metadata": {
    "execution": {
     "iopub.execute_input": "2022-11-22T18:46:58.009861Z",
     "iopub.status.busy": "2022-11-22T18:46:58.009261Z",
     "iopub.status.idle": "2022-11-22T18:46:58.012766Z",
     "shell.execute_reply": "2022-11-22T18:46:58.012178Z"
    },
    "papermill": {
     "duration": 0.018405,
     "end_time": "2022-11-22T18:46:58.015084",
     "exception": false,
     "start_time": "2022-11-22T18:46:57.996679",
     "status": "completed"
    },
    "tags": []
   },
   "outputs": [],
   "source": [
    "y_test = y_test.reshape(28512,1)"
   ]
  },
  {
   "cell_type": "code",
   "execution_count": 33,
   "metadata": {
    "execution": {
     "iopub.execute_input": "2022-11-22T18:46:58.038162Z",
     "iopub.status.busy": "2022-11-22T18:46:58.037782Z",
     "iopub.status.idle": "2022-11-22T18:46:58.094461Z",
     "shell.execute_reply": "2022-11-22T18:46:58.093328Z"
    },
    "papermill": {
     "duration": 0.071296,
     "end_time": "2022-11-22T18:46:58.096907",
     "exception": false,
     "start_time": "2022-11-22T18:46:58.025611",
     "status": "completed"
    },
    "tags": []
   },
   "outputs": [],
   "source": [
    "submission = pd.DataFrame()\n",
    "submission['id'] = test['id']\n",
    "submission['sales']= y_test\n",
    "submission.to_csv(\"submission.csv\", index=False)"
   ]
  },
  {
   "cell_type": "code",
   "execution_count": 34,
   "metadata": {
    "execution": {
     "iopub.execute_input": "2022-11-22T18:46:58.119987Z",
     "iopub.status.busy": "2022-11-22T18:46:58.119611Z",
     "iopub.status.idle": "2022-11-22T18:46:58.126276Z",
     "shell.execute_reply": "2022-11-22T18:46:58.124939Z"
    },
    "papermill": {
     "duration": 0.020452,
     "end_time": "2022-11-22T18:46:58.127988",
     "exception": false,
     "start_time": "2022-11-22T18:46:58.107536",
     "status": "completed"
    },
    "tags": []
   },
   "outputs": [
    {
     "data": {
      "text/html": [
       "<a href='submission.csv' target='_blank'>submission.csv</a><br>"
      ],
      "text/plain": [
       "/kaggle/working/submission.csv"
      ]
     },
     "execution_count": 34,
     "metadata": {},
     "output_type": "execute_result"
    }
   ],
   "source": [
    "os.chdir(r'/kaggle/working')\n",
    "from IPython.display import FileLink\n",
    "FileLink(r'submission.csv')"
   ]
  }
 ],
 "metadata": {
  "kernelspec": {
   "display_name": "Python 3",
   "language": "python",
   "name": "python3"
  },
  "language_info": {
   "codemirror_mode": {
    "name": "ipython",
    "version": 3
   },
   "file_extension": ".py",
   "mimetype": "text/x-python",
   "name": "python",
   "nbconvert_exporter": "python",
   "pygments_lexer": "ipython3",
   "version": "3.8.5"
  },
  "papermill": {
   "default_parameters": {},
   "duration": 102.730796,
   "end_time": "2022-11-22T18:47:00.759484",
   "environment_variables": {},
   "exception": null,
   "input_path": "__notebook__.ipynb",
   "output_path": "__notebook__.ipynb",
   "parameters": {},
   "start_time": "2022-11-22T18:45:18.028688",
   "version": "2.3.4"
  }
 },
 "nbformat": 4,
 "nbformat_minor": 5
}
